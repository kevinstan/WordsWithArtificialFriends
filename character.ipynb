{
 "cells": [
  {
   "cell_type": "code",
   "execution_count": null,
   "metadata": {
    "collapsed": true
   },
   "outputs": [],
   "source": [
    "import numpy as np\n",
    "import sqlite3, time, csv, re\n",
    "from collections import defaultdict, Counter\n",
    "from random import choice, randint, shuffle\n"
   ]
  },
  {
   "cell_type": "code",
   "execution_count": null,
   "metadata": {
    "collapsed": false
   },
   "outputs": [],
   "source": [
    "print('Querying DB...\\n')\n",
    "sql_conn = sqlite3.connect(\"database.sqlite\")\n",
    "the_data = sql_conn.execute(\"SELECT subreddit, body FROM May2015 limit 500000\")\n",
    "print('Done querying DB...\\n')"
   ]
  },
  {
   "cell_type": "code",
   "execution_count": null,
   "metadata": {
    "collapsed": false
   },
   "outputs": [],
   "source": [
    "print('Building Corpora...\\n')\n",
    "corpus_dict = defaultdict(list)\n",
    "\n",
    "for post in the_data:\n",
    "    # corpus.append(post[1])\n",
    "    corpus_dict[post[0]].append(post[1])\n",
    "print('Done building Corpora...\\n')"
   ]
  },
  {
   "cell_type": "code",
   "execution_count": null,
   "metadata": {
    "collapsed": false,
    "scrolled": true
   },
   "outputs": [],
   "source": [
    "# separating comments by their subreddits\n",
    "# 'subreddit1' : ['comment1', 'comment2' 'comment3', etc]\n",
    "#for k in sorted(corpus_dict, key=lambda k: len(corpus_dict[k]), reverse=True):\n",
    "#    print (k, len(corpus_dict[k]))"
   ]
  },
  {
   "cell_type": "code",
   "execution_count": null,
   "metadata": {
    "collapsed": true
   },
   "outputs": [],
   "source": [
    "# Selecting subreddits\n",
    "\n",
    "subreds = ['nba']\n",
    "#subreds = ['leagueoflegends']\n",
    "\n",
    "\n",
    "#[[all comments in subreddits separated by comma]]\n",
    "temp = [corpus_dict[a] for a in subreds] \n",
    "\n",
    "# [comment1, comment2, etc]\n",
    "sentences = [item for sublist in temp for item in sublist]\n",
    "\n",
    "# [c, o, m, m, e, n, t, etc]\n",
    "characters = [c for sentence in sentences for c in sentence]"
   ]
  },
  {
   "cell_type": "code",
   "execution_count": null,
   "metadata": {
    "collapsed": false
   },
   "outputs": [],
   "source": [
    "# remove tabs/newline??\n",
    "# remove if exact same comments appear 5+ times\n",
    "#    '*Please refer to our [detailed rules and posting guidelines.]'\n",
    "#    'feel free to make a new post that fits within the rules'\n",
    "# remove links? \n",
    "\n",
    "def text_clean(inputlist):\n",
    "    \n",
    "    cnt = Counter(inputlist)\n",
    "    dups = [k for k, v in cnt.items() if v > 5]\n",
    "    removed = list(set(inputlist) - set(dups))\n",
    "    \n",
    "    cleaned = []\n",
    "    for comment in removed:\n",
    "        c = re.sub(' +',' ',comment)\n",
    "        #cleaned.append([a for a in c.replace('&gt;', '>').replace('&lt;', '>').replace('&amp;', '&')]) #.replace(\"\\n\", '').replace(\"\\t\", '')\n",
    "        cleaned.append(c.replace('&gt;', '>').replace('&lt;', '>').replace('&amp;', '&'))\n",
    "    \n",
    "    return cleaned\n",
    "\n",
    "print (\"original length: \" , len(sentences))\n",
    "\n",
    "cleaned = text_clean(sentences)\n",
    "\n",
    "print (\"cleaned length: \" , len(cleaned))"
   ]
  },
  {
   "cell_type": "code",
   "execution_count": null,
   "metadata": {
    "collapsed": false
   },
   "outputs": [],
   "source": [
    "cleaned[:10]"
   ]
  },
  {
   "cell_type": "code",
   "execution_count": null,
   "metadata": {
    "collapsed": true
   },
   "outputs": [],
   "source": [
    "## combine with dictionary?\n",
    "def make_ngrams(n, inputlist):\n",
    "\n",
    "    ngrams = []\n",
    "    temp_dict = defaultdict(list)\n",
    "\n",
    "    for comment in inputlist:\n",
    "        if len(comment) >= n:\n",
    "            for x in range(0, len(comment)-n):\n",
    "                \n",
    "                charlist = []\n",
    "                \n",
    "                for i in range(n):\n",
    "                    charlist.append(comment[x+i])\n",
    "                \n",
    "                keys = tuple(charlist[:n-1])\n",
    "                final_char = charlist[n-1]\n",
    "                \n",
    "                temp_dict[keys].append(final_char)\n",
    "    return temp_dict\n",
    "\n",
    "N = 5\n",
    "ngrams = make_ngrams(N, cleaned)"
   ]
  },
  {
   "cell_type": "code",
   "execution_count": null,
   "metadata": {
    "collapsed": false
   },
   "outputs": [],
   "source": [
    "length_cnt = defaultdict(int)\n",
    "\n",
    "for k, v in ngrams.items():\n",
    "    length_cnt[len(v)] += 1\n",
    "\n",
    "#length_cnt"
   ]
  },
  {
   "cell_type": "code",
   "execution_count": null,
   "metadata": {
    "collapsed": false
   },
   "outputs": [],
   "source": [
    "def filter_dict(threshold, d):\n",
    "    final_d = {}\n",
    "    for k, v in d.items():\n",
    "        if len(v) > threshold:\n",
    "            final_d[k] = v\n",
    "        \n",
    "    return final_d\n",
    "\n",
    "print('Dictionary length before threhold: ', len(ngrams))\n",
    "\n",
    "filtered = filter_dict(10, ngrams)\n",
    "\n",
    "print('Dictionary length after threhold: ', len(filtered))\n"
   ]
  },
  {
   "cell_type": "markdown",
   "metadata": {},
   "source": [
    "## Generate random string"
   ]
  },
  {
   "cell_type": "code",
   "execution_count": null,
   "metadata": {
    "collapsed": false
   },
   "outputs": [],
   "source": [
    "def generate(n, ngram_dict, length):\n",
    "    \"\"\"Make random text of given length (using ngrams of the given n).\"\"\"\n",
    "    \n",
    "    #seed_no = randint(0,len(inputlist)) # choose random seed\n",
    "    \n",
    "    #start = list(choice(list(ngram_dict))) # start off with randomly chosen n-1 words\n",
    "    #output = start\n",
    "    \n",
    "    # start off with randomly chosen n-1 words that starts with upper case letter\n",
    "    start = list(choice(tuple([l for l in list(ngram_dict) if l[0].isupper()]))) \n",
    "    output = start\n",
    "    \n",
    "    letter_count = n-1\n",
    "    \n",
    "    while(True):\n",
    "        \n",
    "        last_char = output[-1][-1]\n",
    "        \n",
    "        # last character was end of sentence punct:\n",
    "        if (last_char in ['.', '!', '?']):\n",
    "            if (letter_count > length):\n",
    "                break\n",
    "            \n",
    "        next_key = tuple(output[-(n-1):])\n",
    "        \n",
    "        if next_key not in ngram_dict:\n",
    "            #print ('restart')\n",
    "            next_key = choice(list(ngram_dict))\n",
    "        \n",
    "        output.append(choice(ngram_dict[next_key]))\n",
    "        \n",
    "        \n",
    "        letter_count += 1\n",
    "\n",
    "    return \"\".join(output)\n"
   ]
  },
  {
   "cell_type": "code",
   "execution_count": null,
   "metadata": {
    "collapsed": false
   },
   "outputs": [],
   "source": []
  },
  {
   "cell_type": "code",
   "execution_count": null,
   "metadata": {
    "collapsed": true
   },
   "outputs": [],
   "source": []
  },
  {
   "cell_type": "code",
   "execution_count": null,
   "metadata": {
    "collapsed": true
   },
   "outputs": [],
   "source": []
  },
  {
   "cell_type": "markdown",
   "metadata": {},
   "source": [
    "## Input starting string"
   ]
  },
  {
   "cell_type": "code",
   "execution_count": null,
   "metadata": {
    "collapsed": true
   },
   "outputs": [],
   "source": [
    "def generate_with_start(startstr, n, ngram_dict, length):\n",
    "    \"\"\"Make random text of given length (using ngrams of the given n).\"\"\"\n",
    "    \n",
    "    # if starting string length > n, use last n-1 \n",
    "    if len(startstr) >= n:\n",
    "        last_n_char = startstr[-(n-1):]\n",
    "        candidates = [ng for ng in list(ngram_dict) if ng[:n-1] == tuple(i for i in last_n_char)]\n",
    "        \n",
    "        start = list(choice(candidates))\n",
    "        output = list(startstr[:len(startstr)-len(last_n_char)]) + start\n",
    "    else:\n",
    "        candidates = [ng for ng in list(ngram_dict) if ng[:len(startstr)] == tuple(i for i in startstr)]\n",
    "            \n",
    "        start = list(choice(candidates))\n",
    "        output = start\n",
    "    \n",
    "    letter_count = n-1\n",
    "    \n",
    "    while(True):\n",
    "        \n",
    "        last_char = output[-1][-1]\n",
    "        \n",
    "        # last character was end of sentence:\n",
    "        if (last_char in ['.', '!', '?']):\n",
    "            if (letter_count > length):\n",
    "                break\n",
    "            \n",
    "        next_key = tuple(output[-(n-1):])\n",
    "        \n",
    "        if next_key not in ngram_dict:\n",
    "            #print ('restart')\n",
    "            next_key = choice(list(ngram_dict))\n",
    "        \n",
    "        output.append(choice(ngram_dict[next_key]))\n",
    "        \n",
    "        \n",
    "        letter_count += 1\n",
    "\n",
    "    return \"\".join(output)"
   ]
  },
  {
   "cell_type": "code",
   "execution_count": null,
   "metadata": {
    "collapsed": false
   },
   "outputs": [],
   "source": [
    "startstr = \"A\"\n",
    "generate_with_start(startstr, N, filtered, 100)"
   ]
  },
  {
   "cell_type": "code",
   "execution_count": null,
   "metadata": {
    "collapsed": true
   },
   "outputs": [],
   "source": []
  },
  {
   "cell_type": "code",
   "execution_count": null,
   "metadata": {
    "collapsed": true
   },
   "outputs": [],
   "source": []
  },
  {
   "cell_type": "markdown",
   "metadata": {
    "collapsed": true
   },
   "source": [
    "## Perplexity -- lower is better"
   ]
  },
  {
   "cell_type": "code",
   "execution_count": null,
   "metadata": {
    "collapsed": true
   },
   "outputs": [],
   "source": [
    "# Should the corpus be character ngram? or unigram words???\n",
    "\n",
    "# wrote functions for getting both character level corpus & unigram corpus\n",
    "# using character level corpus, the probability of 5-gram characters appearing in that corpus is too low\n",
    "# that when it calculates -log probability later, it gives infinity for almost everything\n",
    "\n",
    "# switching to word level is a bit better\n",
    "\n",
    "# when using below functions, use either get_corpus_char, or get_corpus_uni to get all possible tokens from corpus"
   ]
  },
  {
   "cell_type": "code",
   "execution_count": null,
   "metadata": {
    "collapsed": false
   },
   "outputs": [],
   "source": [
    "len(cleaned) # number of comments"
   ]
  },
  {
   "cell_type": "code",
   "execution_count": null,
   "metadata": {
    "collapsed": false
   },
   "outputs": [],
   "source": [
    "# BUILDING CHARACTER LEVEL CORPUS\n",
    "\n",
    "def char_ngrams(text, n=5):\n",
    "    return [text[i:i+n] for i in range(len(text)-n+1)]\n",
    "   \n",
    "# input: list of comments ['this is comment 1', 'this is comment 2', etc]\n",
    "# output: list of character level 5-grams ['this ', 'his is', 'is is', 's is ', ' is c', 'is co' , etc]    \n",
    "def get_corpus_char(all_text):\n",
    "    all_tokens = []\n",
    "\n",
    "    for comment in all_text:\n",
    "        all_tokens += char_ngrams(comment)\n",
    "    return all_tokens\n",
    "\n",
    "all_tokens = get_corpus_char(cleaned)"
   ]
  },
  {
   "cell_type": "code",
   "execution_count": null,
   "metadata": {
    "collapsed": false
   },
   "outputs": [],
   "source": [
    "len(all_tokens)"
   ]
  },
  {
   "cell_type": "code",
   "execution_count": null,
   "metadata": {
    "collapsed": false
   },
   "outputs": [],
   "source": [
    "# BUILDING WORD LEVEL CORPUS\n",
    "\n",
    "# should this be case-insensitive??\n",
    "def unigram_words(text):\n",
    "    return text.split(' ')\n",
    "\n",
    "# input: list of comments ['this is comment 1', 'this is comment 2', etc]\n",
    "# output: list of individual words ['this', 'is', 'comment', '1', etc]\n",
    "def get_corpus_uni(all_text):\n",
    "    all_tokens = []\n",
    "\n",
    "    for comment in all_text:\n",
    "        all_tokens += comment.split()\n",
    "    return all_tokens\n",
    "\n",
    "all_tokens = get_corpus_uni(cleaned)"
   ]
  },
  {
   "cell_type": "code",
   "execution_count": null,
   "metadata": {
    "collapsed": false
   },
   "outputs": [],
   "source": [
    "len(all_tokens)"
   ]
  },
  {
   "cell_type": "code",
   "execution_count": null,
   "metadata": {
    "collapsed": false
   },
   "outputs": [],
   "source": [
    "def fivegrams(tokens):\n",
    "    \n",
    "    model = defaultdict(lambda: 4.5e-06) # baseline for words that don't appear in corpus -- smoothing\n",
    "    for f in tokens:\n",
    "        try:\n",
    "            model[f] += 1\n",
    "        except KeyError:\n",
    "            model [f] = 1\n",
    "            continue\n",
    "\n",
    "    total = float(sum(model.values()))\n",
    "    \n",
    "    for word in model:\n",
    "        model[word] = model[word]/total\n",
    "    \n",
    "    return model\n",
    "\n",
    "fivegram_prob = fivegrams(all_tokens)"
   ]
  },
  {
   "cell_type": "code",
   "execution_count": null,
   "metadata": {
    "collapsed": false
   },
   "outputs": [],
   "source": [
    "# checking lowest probability word to decide smoothing value above\n",
    "i = 0\n",
    "aa = []\n",
    "lowest = 1\n",
    "lowest_word = ''\n",
    "for k, v in fivegram_prob.items():\n",
    "    if v < lowest:\n",
    "        lowest = v\n",
    "        lowest_word = k\n",
    "        \n",
    "lowest_word, lowest"
   ]
  },
  {
   "cell_type": "code",
   "execution_count": null,
   "metadata": {
    "collapsed": false
   },
   "outputs": [],
   "source": [
    "# again, might make everything lowercase when calcualting perplexity\n",
    "print(fivegram_prob['reddit'])\n",
    "print(fivegram_prob['Reddit'])"
   ]
  },
  {
   "cell_type": "code",
   "execution_count": null,
   "metadata": {
    "collapsed": true
   },
   "outputs": [],
   "source": [
    "#computes perplexity of the unigram model on a testset  \n",
    "def perplexity(testset, model):\n",
    "    \n",
    "    testset = testset.split()\n",
    "    #testset = char_ngrams(testset)\n",
    "    \n",
    "    #testset = unigram_words(testset)\n",
    "\n",
    "    #print(testset)\n",
    "    perplexity = 1\n",
    "    N = 0\n",
    "    for word in testset:\n",
    "        N += 1\n",
    "        perplexity = perplexity * (1/model[word])\n",
    "        \n",
    "    perplexity = pow(perplexity, 1/float(N))\n",
    "    \n",
    "    return perplexity"
   ]
  },
  {
   "cell_type": "code",
   "execution_count": null,
   "metadata": {
    "collapsed": true
   },
   "outputs": [],
   "source": []
  },
  {
   "cell_type": "code",
   "execution_count": null,
   "metadata": {
    "collapsed": false
   },
   "outputs": [],
   "source": [
    "#AR_toeval = []\n",
    "while(len(AR_toeval) < 2000):\n",
    "    sent = generate(N, filtered, 12)\n",
    "    if perplexity(sent, fivegram_prob) < 999999:\n",
    "        AR_toeval.append(sent)\n",
    "        #print(len(AR_toeval))\n",
    "    #else:\n",
    "        #print ('aa')"
   ]
  },
  {
   "cell_type": "code",
   "execution_count": null,
   "metadata": {
    "collapsed": false
   },
   "outputs": [],
   "source": [
    "AR_scores_ng = []\n",
    "for sent in AR_toeval:\n",
    "    sc = perplexity(sent, fivegram_prob)\n",
    "    AR_scores_ng.append(sc)\n",
    "    \n",
    "np.mean(AR_scores_ng)"
   ]
  },
  {
   "cell_type": "code",
   "execution_count": null,
   "metadata": {
    "collapsed": false
   },
   "outputs": [],
   "source": [
    "AR_rnn = []\n",
    "with open('rnn/AskReddit_rnn.txt', 'r') as f:\n",
    "    text = f.read()\n",
    "    #print(len(text))\n",
    "\n",
    "comment = ''  \n",
    "i = 0\n",
    "while(i < len(text)):\n",
    "    \n",
    "    if (len(comment) < 150):\n",
    "        comment += text[i]\n",
    "    else:\n",
    "        if (text[i] == ' '):\n",
    "            AR_rnn.append(comment)\n",
    "            comment = ''\n",
    "        else:\n",
    "            comment += text[i]\n",
    "    i += 1"
   ]
  },
  {
   "cell_type": "code",
   "execution_count": null,
   "metadata": {
    "collapsed": false
   },
   "outputs": [],
   "source": [
    "len(AR_rnn)"
   ]
  },
  {
   "cell_type": "code",
   "execution_count": null,
   "metadata": {
    "collapsed": false
   },
   "outputs": [],
   "source": [
    "AR_scores_rnn = []\n",
    "for sent in NBA_rnn:\n",
    "    AR_scores_rnn.append(perplexity(sent, fivegram_prob))\n",
    "    \n",
    "np.mean(AR_scores_rnn)"
   ]
  },
  {
   "cell_type": "code",
   "execution_count": null,
   "metadata": {
    "collapsed": false
   },
   "outputs": [],
   "source": [
    "#NBA_toeval = []\n",
    "while(len(NBA_toeval) < 2000):\n",
    "    sent = generate(N, filtered, 12)\n",
    "    if perplexity(sent, fivegram_prob) < 999999:\n",
    "        NBA_toeval.append(sent)\n",
    "    #else:\n",
    "        #print ('aa')"
   ]
  },
  {
   "cell_type": "code",
   "execution_count": null,
   "metadata": {
    "collapsed": false
   },
   "outputs": [],
   "source": [
    "NBA_scores_ng = []\n",
    "for sent in NBA_toeval:\n",
    "    NBA_scores_ng.append(perplexity(sent, fivegram_prob))\n",
    "    \n",
    "np.mean(NBA_scores_ng)"
   ]
  },
  {
   "cell_type": "code",
   "execution_count": null,
   "metadata": {
    "collapsed": false
   },
   "outputs": [],
   "source": [
    "NBA_rnn = []\n",
    "with open('rnn/nba_rnn.txt', 'r') as f:\n",
    "    text = f.read()\n",
    "    #print(len(text))\n",
    "\n",
    "comment = ''   \n",
    "i = 0\n",
    "while(i < len(text)):\n",
    "    \n",
    "    if (len(comment) < 150):\n",
    "        comment += text[i]\n",
    "    else:\n",
    "        if (text[i] == ' '):\n",
    "            NBA_rnn.append(comment)\n",
    "            comment = ''\n",
    "        else:\n",
    "            comment += text[i]\n",
    "    i += 1"
   ]
  },
  {
   "cell_type": "code",
   "execution_count": null,
   "metadata": {
    "collapsed": false
   },
   "outputs": [],
   "source": [
    "NBA_scores_rnn = []\n",
    "for sent in NBA_rnn:\n",
    "    NBA_scores_rnn.append(perplexity(sent, fivegram_prob))\n",
    "    \n",
    "np.mean(NBA_scores_rnn)"
   ]
  },
  {
   "cell_type": "code",
   "execution_count": null,
   "metadata": {
    "collapsed": true
   },
   "outputs": [],
   "source": []
  },
  {
   "cell_type": "code",
   "execution_count": null,
   "metadata": {
    "collapsed": true
   },
   "outputs": [],
   "source": []
  },
  {
   "cell_type": "code",
   "execution_count": null,
   "metadata": {
    "collapsed": true
   },
   "outputs": [],
   "source": []
  },
  {
   "cell_type": "code",
   "execution_count": null,
   "metadata": {
    "collapsed": true
   },
   "outputs": [],
   "source": []
  },
  {
   "cell_type": "code",
   "execution_count": null,
   "metadata": {
    "collapsed": true
   },
   "outputs": [],
   "source": [
    "NFL_toeval = []\n",
    "while(len(NFL_toeval) < 2000):\n",
    "    sent = generate(N, filtered, 200)\n",
    "    if perplexity(sent, fivegram_prob) < 999999:\n",
    "        NFL_toeval.append(sent)\n",
    "        #print(len(NFL_toeval))\n",
    "    #else:\n",
    "        #print ('aa')"
   ]
  },
  {
   "cell_type": "code",
   "execution_count": null,
   "metadata": {
    "collapsed": false
   },
   "outputs": [],
   "source": [
    "NFL_scores_ng = []\n",
    "for sent in NBA_toeval:\n",
    "    NFL_scores_ng.append(perplexity(sent, fivegram_prob))\n",
    "    \n",
    "np.mean(NFL_scores_ng)"
   ]
  },
  {
   "cell_type": "code",
   "execution_count": null,
   "metadata": {
    "collapsed": false
   },
   "outputs": [],
   "source": [
    "NFL_rnn = []\n",
    "with open('rnn/nfl_rnn.txt', 'r') as f:\n",
    "    text = f.read()\n",
    "    #print(len(text))\n",
    "\n",
    "comment = '' \n",
    "i = 0\n",
    "while(i < len(text)):\n",
    "    \n",
    "    if (len(comment) < 150):\n",
    "        comment += text[i]\n",
    "    else:\n",
    "        if (text[i] == ' '):\n",
    "            NFL_rnn.append(comment)\n",
    "            comment = ''\n",
    "        else:\n",
    "            comment += text[i]\n",
    "    i += 1"
   ]
  },
  {
   "cell_type": "code",
   "execution_count": null,
   "metadata": {
    "collapsed": false
   },
   "outputs": [],
   "source": [
    "NFL_scores_rnn = []\n",
    "for sent in NFL_rnn:\n",
    "    NFL_scores_rnn.append(perplexity(sent, fivegram_prob))\n",
    "    \n",
    "np.mean(NFL_scores_rnn)"
   ]
  },
  {
   "cell_type": "code",
   "execution_count": null,
   "metadata": {
    "collapsed": true
   },
   "outputs": [],
   "source": []
  }
 ],
 "metadata": {
  "kernelspec": {
   "display_name": "Python 3",
   "language": "python",
   "name": "python3"
  },
  "language_info": {
   "codemirror_mode": {
    "name": "ipython",
    "version": 3
   },
   "file_extension": ".py",
   "mimetype": "text/x-python",
   "name": "python",
   "nbconvert_exporter": "python",
   "pygments_lexer": "ipython3",
   "version": "3.5.2"
  }
 },
 "nbformat": 4,
 "nbformat_minor": 2
}
