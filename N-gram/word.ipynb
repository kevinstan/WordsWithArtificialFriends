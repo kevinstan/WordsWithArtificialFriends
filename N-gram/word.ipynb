{
 "cells": [
  {
   "cell_type": "code",
   "execution_count": null,
   "metadata": {
    "collapsed": false
   },
   "outputs": [],
   "source": [
    "import numpy as np\n",
    "import sqlite3, time, csv, re\n",
    "from collections import defaultdict, Counter\n",
    "from random import choice, randint, shuffle\n",
    "import unicodedata\n"
   ]
  },
  {
   "cell_type": "code",
   "execution_count": null,
   "metadata": {
    "collapsed": false
   },
   "outputs": [],
   "source": [
    "print('Querying DB...\\n')\n",
    "sql_conn = sqlite3.connect(\"database.sqlite\")\n",
    "the_data = sql_conn.execute(\"SELECT subreddit, body FROM May2015 limit 500000\")\n",
    "print('Done querying DB...\\n')"
   ]
  },
  {
   "cell_type": "code",
   "execution_count": null,
   "metadata": {
    "collapsed": false
   },
   "outputs": [],
   "source": [
    "print('Building Corpora...\\n')\n",
    "corpus_dict = defaultdict(list)\n",
    "\n",
    "for post in the_data:\n",
    "    # corpus.append(post[1])\n",
    "    corpus_dict[post[0]].append(post[1])\n",
    "print('Done building Corpora...\\n')"
   ]
  },
  {
   "cell_type": "code",
   "execution_count": null,
   "metadata": {
    "collapsed": false
   },
   "outputs": [],
   "source": [
    "#for k in sorted(corpus_dict, key=lambda k: len(corpus_dict[k]), reverse=True):\n",
    "#    print (k, len(corpus_dict[k]))"
   ]
  },
  {
   "cell_type": "code",
   "execution_count": null,
   "metadata": {
    "collapsed": false
   },
   "outputs": [],
   "source": [
    "#subreds = ['AskReddit', 'news','csgobetting', 'nfl', 'nba', 'hockey', 'chicagobulls']\n",
    "subreds = ['nfl']\n",
    "\n",
    "temp = [corpus_dict[a] for a in subreds]\n",
    "corpus = [item for sublist in temp for item in sublist]\n"
   ]
  },
  {
   "cell_type": "code",
   "execution_count": null,
   "metadata": {
    "collapsed": false
   },
   "outputs": [],
   "source": [
    "\n",
    "# removing newline; tabs and encoding stuff\n",
    "# remove if exactly same comments appear 5+ times\n",
    "#    '*Please refer to our [detailed rules and posting guidelines.]'\n",
    "#    'feel free to make a new post that fits within the rules'\n",
    "# remove links? \n",
    "def text_clean(inputlist):\n",
    "    \n",
    "    cnt = Counter(inputlist)\n",
    "    dups = [k for k, v in cnt.items() if v > 1]\n",
    "    \n",
    "    #dups = [item for item in set(cleaned) if cleaned.count(item) > 1]\n",
    "    removed = list(set(inputlist) - set(dups))\n",
    "    \n",
    "    cleaned = []\n",
    "    for comment in removed:\n",
    "        cleaned.append([a for a in comment.replace('&gt;', '>').replace('&lt;', '>').split(' ') if (a!='')]) #.replace(\"\\n\", '').replace(\"\\t\", '')\n",
    "    \n",
    "    \n",
    "\n",
    "    \n",
    "    return cleaned\n",
    "print (\"original length: \" , len(corpus))\n",
    "cleaned = text_clean(corpus)\n",
    "print (\"cleaned length: \" , len(cleaned))\n"
   ]
  },
  {
   "cell_type": "code",
   "execution_count": null,
   "metadata": {
    "collapsed": false
   },
   "outputs": [],
   "source": []
  },
  {
   "cell_type": "code",
   "execution_count": null,
   "metadata": {
    "collapsed": false
   },
   "outputs": [],
   "source": [
    "def make_ngrams(n, inputlist):\n",
    "    \"\"\"Make ngrams of every n consecutive\n",
    "    words to feed the dictionary function, AS LIST.\"\"\"\n",
    "    ngrams = []\n",
    "    \n",
    "    '''    \n",
    "    for x in range(0, len(inputlist)-n):\n",
    "        wordlist = []\n",
    "        for i in range(n):\n",
    "            wordlist.append(inputlist[x+i])\n",
    "        ngrams.append(wordlist)\n",
    "    ''' \n",
    "    for comment in inputlist:\n",
    "        if len(comment) >= n:\n",
    "            for x in range(0, len(comment)-n):\n",
    "                \n",
    "                wordlist = []\n",
    "                \n",
    "                for i in range(n):\n",
    "                    wordlist.append(comment[x+i])\n",
    "                \n",
    "                ngrams.append(wordlist)\n",
    "    return ngrams\n",
    "\n",
    "N = 5\n",
    "ngrams = make_ngrams(N, cleaned)"
   ]
  },
  {
   "cell_type": "code",
   "execution_count": null,
   "metadata": {
    "collapsed": false
   },
   "outputs": [],
   "source": [
    "choice(list(ngrams))"
   ]
  },
  {
   "cell_type": "code",
   "execution_count": null,
   "metadata": {
    "collapsed": false
   },
   "outputs": [],
   "source": [
    "def make_dictionary(n, ngram):\n",
    "    \"\"\"For every ngram, takes first n-1 words as key, and last as value.\"\"\"\n",
    "\n",
    "    temp_dict = defaultdict(list)\n",
    "    \n",
    "    for ng in ngram:\n",
    "        \n",
    "        wordlist = ng[:n-1]\n",
    "        final_word = ng[n-1]\n",
    "        \n",
    "        temp_dict[tuple(wordlist)].append(final_word)\n",
    "\n",
    "    return temp_dict\n",
    "\n",
    "ngram_dict = make_dictionary(N, ngrams)"
   ]
  },
  {
   "cell_type": "code",
   "execution_count": null,
   "metadata": {
    "collapsed": true
   },
   "outputs": [],
   "source": [
    "length_cnt = defaultdict(int)\n",
    "\n",
    "for k, v in ngram_dict.items():\n",
    "    length_cnt[len(v)] += 1\n",
    "\n",
    "#length_cnt"
   ]
  },
  {
   "cell_type": "code",
   "execution_count": null,
   "metadata": {
    "collapsed": false
   },
   "outputs": [],
   "source": [
    "def filter_dict(threshold, d):\n",
    "    final_d = {}\n",
    "    for k, v in d.items():\n",
    "        if len(v) > threshold:\n",
    "            final_d[k] = v\n",
    "        \n",
    "    return final_d\n",
    "\n",
    "print('Dictionary length before threhold: ', len(ngram_dict))\n",
    "\n",
    "filtered = filter_dict(1, ngram_dict)\n",
    "\n",
    "print('Dictionary length after threhold: ', len(filtered))\n"
   ]
  },
  {
   "cell_type": "code",
   "execution_count": null,
   "metadata": {
    "collapsed": false
   },
   "outputs": [],
   "source": [
    "def generate(n, ngram_dict, length):\n",
    "    \"\"\"Make random text of given length (using ngrams of the given n).\"\"\"\n",
    "    \n",
    "    #seed_no = randint(0,len(inputlist)) # choose random seed\n",
    "    \n",
    "    start = list(choice(list(ngram_dict))) # start off with randomly chosen n-1 words\n",
    "    output = start\n",
    "    \n",
    "    word_count = n-1\n",
    "    done = 0\n",
    "    \n",
    "    while(True):\n",
    "        \n",
    "        last_char = output[-1][-1]\n",
    "        \n",
    "        # last character was end of sentence punct:\n",
    "        if (last_char in ['.', '!', '?']):\n",
    "            if (word_count > length):\n",
    "                break\n",
    "        \n",
    "        next_key = tuple(output[-(n-1):])\n",
    "        \n",
    "        if next_key not in ngram_dict:\n",
    "            #print ('restart')\n",
    "            next_key = choice(list(ngram_dict))\n",
    "        \n",
    "        output.append(choice(ngram_dict[next_key]))\n",
    "                \n",
    "        \n",
    "        word_count += 1\n",
    "\n",
    "    return \" \".join(output)\n"
   ]
  },
  {
   "cell_type": "markdown",
   "metadata": {
    "collapsed": true
   },
   "source": [
    "## PERPLEXITY"
   ]
  },
  {
   "cell_type": "code",
   "execution_count": null,
   "metadata": {
    "collapsed": false
   },
   "outputs": [],
   "source": [
    "# BUILDING BIGRAM CORPUS\n",
    "\n",
    "def to_bigram_words(text):\n",
    "    \n",
    "    bigrams = []\n",
    "    for i in range(0, len(text)-1):\n",
    "        bigrams.append((text[i], text[i+1]))\n",
    "    return bigrams\n",
    "\n",
    "# input: list of comments ['this is comment 1', 'this is comment 2', etc]\n",
    "# output: list of character level 5-grams ['this ', 'his is', 'is is', 's is ', ' is c', 'is co' , etc]    \n",
    "def get_corpus_char(all_text):\n",
    "    all_tokens = []\n",
    "\n",
    "    for comment in all_text:\n",
    "        #print(comment)\n",
    "        all_tokens += to_bigram_words(comment)\n",
    "    return all_tokens\n",
    "\n",
    "all_tokens = get_corpus_char(cleaned)"
   ]
  },
  {
   "cell_type": "code",
   "execution_count": null,
   "metadata": {
    "collapsed": true
   },
   "outputs": [],
   "source": [
    "def fivegrams(tokens):\n",
    "    \n",
    "    model = defaultdict(lambda: 2.5e-06) # baseline for words that don't appear in corpus -- smoothing\n",
    "    for f in tokens:\n",
    "        try:\n",
    "            model[f] += 1\n",
    "        except KeyError:\n",
    "            model [f] = 1\n",
    "            continue\n",
    "\n",
    "    total = float(sum(model.values()))\n",
    "    \n",
    "    for word in model:\n",
    "        model[word] = model[word]/total\n",
    "    \n",
    "    return model\n",
    "\n",
    "fivegram_prob = fivegrams(all_tokens)"
   ]
  },
  {
   "cell_type": "code",
   "execution_count": null,
   "metadata": {
    "collapsed": false
   },
   "outputs": [],
   "source": [
    "# checking lowest probability word to decide smoothing value above\n",
    "i = 0\n",
    "aa = []\n",
    "lowest = 1\n",
    "lowest_word = ''\n",
    "for k, v in fivegram_prob.items():\n",
    "    if v < lowest:\n",
    "        lowest = v\n",
    "        lowest_word = k\n",
    "        \n",
    "lowest_word, lowest"
   ]
  },
  {
   "cell_type": "code",
   "execution_count": null,
   "metadata": {
    "collapsed": true
   },
   "outputs": [],
   "source": []
  },
  {
   "cell_type": "code",
   "execution_count": null,
   "metadata": {
    "collapsed": true
   },
   "outputs": [],
   "source": []
  },
  {
   "cell_type": "code",
   "execution_count": null,
   "metadata": {
    "collapsed": true
   },
   "outputs": [],
   "source": [
    "#computes perplexity of the unigram model on a testset  \n",
    "def perplexity(testset, model):\n",
    "    \n",
    "    #testset = testset.split()\n",
    "    #testset = char_ngrams(testset)\n",
    "    \n",
    "    testset = [b for l in [testset] for b in zip(l.split(\" \")[:-1], l.split(\" \")[1:])]\n",
    "\n",
    "    #print(testset)\n",
    "    perplexity = 1\n",
    "    N = 0\n",
    "    for word in testset:\n",
    "        N += 1\n",
    "        perplexity = perplexity * (1/model[word])\n",
    "        \n",
    "    perplexity = pow(perplexity, 1/float(N))\n",
    "    \n",
    "    return perplexity"
   ]
  },
  {
   "cell_type": "code",
   "execution_count": null,
   "metadata": {
    "collapsed": true
   },
   "outputs": [],
   "source": []
  },
  {
   "cell_type": "code",
   "execution_count": null,
   "metadata": {
    "collapsed": true
   },
   "outputs": [],
   "source": []
  },
  {
   "cell_type": "code",
   "execution_count": null,
   "metadata": {
    "collapsed": true
   },
   "outputs": [],
   "source": [
    "NBA_toeval = []\n",
    "while(len(NBA_toeval) < 2000):\n",
    "    sent = generate(N, filtered, 12)\n",
    "    if perplexity(sent, fivegram_prob) < 999999:\n",
    "        NBA_toeval.append(sent)\n",
    "    #else:\n",
    "        #print ('aa')"
   ]
  },
  {
   "cell_type": "code",
   "execution_count": null,
   "metadata": {
    "collapsed": false
   },
   "outputs": [],
   "source": [
    "NBA_scores_ng = []\n",
    "for sent in NBA_toeval:\n",
    "    #print(sent)\n",
    "    sc = perplexity(sent, fivegram_prob)\n",
    "    #print(sc)\n",
    "    NBA_scores_ng.append(sc)\n",
    "    \n",
    "np.mean(NBA_scores_ng)"
   ]
  },
  {
   "cell_type": "code",
   "execution_count": null,
   "metadata": {
    "collapsed": false
   },
   "outputs": [],
   "source": [
    "NBA_hmm = []\n",
    "with open('hmm/nbaResults.txt', 'r') as f:\n",
    "    \n",
    "    #for line in f:\n",
    "    text = f.read()\n",
    "    NBA_hmm = text.split('\\n')\n",
    "    \n",
    "NBA_hmm = [ sent for sent in NBA_hmm if len(sent.split()) == 12]"
   ]
  },
  {
   "cell_type": "code",
   "execution_count": null,
   "metadata": {
    "collapsed": false
   },
   "outputs": [],
   "source": [
    "NBA_scores_hmm = []\n",
    "for sent in NBA_hmm:\n",
    "    #print(sent)\n",
    "    sc = perplexity(sent, fivegram_prob)\n",
    "    #print(sc)\n",
    "    NBA_scores_hmm.append(sc)\n",
    "    \n",
    "np.mean(NBA_scores_hmm)"
   ]
  },
  {
   "cell_type": "code",
   "execution_count": null,
   "metadata": {
    "collapsed": true
   },
   "outputs": [],
   "source": []
  },
  {
   "cell_type": "code",
   "execution_count": null,
   "metadata": {
    "collapsed": true
   },
   "outputs": [],
   "source": []
  },
  {
   "cell_type": "code",
   "execution_count": null,
   "metadata": {
    "collapsed": true
   },
   "outputs": [],
   "source": []
  },
  {
   "cell_type": "code",
   "execution_count": null,
   "metadata": {
    "collapsed": false
   },
   "outputs": [],
   "source": [
    "#NFL_toeval = []\n",
    "while(len(NFL_toeval) < 2000):\n",
    "    sent = generate(N, filtered, 12)\n",
    "    if perplexity(sent, fivegram_prob) < 999999:\n",
    "        NFL_toeval.append(sent)\n",
    "        #print (len(NFL_toeval))\n",
    "    #else:\n",
    "        #print ('aa')"
   ]
  },
  {
   "cell_type": "code",
   "execution_count": null,
   "metadata": {
    "collapsed": false
   },
   "outputs": [],
   "source": [
    "NFL_scores_ng = []\n",
    "for sent in NFL_toeval:\n",
    "    #print(sent)\n",
    "    sc = perplexity(sent, fivegram_prob)\n",
    "    #print(sc)\n",
    "    NFL_scores_ng.append(sc)\n",
    "    \n",
    "np.mean(NFL_scores_ng)"
   ]
  },
  {
   "cell_type": "code",
   "execution_count": null,
   "metadata": {
    "collapsed": false
   },
   "outputs": [],
   "source": [
    "NFL_hmm = []\n",
    "with open('hmm/nflResults.txt', 'r') as f:\n",
    "    \n",
    "    #for line in f:\n",
    "    text = f.read()\n",
    "        #print (unicode(line, errors='ignore'))\n",
    "    NFL_hmm = text.split('\\n')\n",
    "    \n",
    "NFL_hmm = [ sent for sent in NFL_hmm if len(sent.split()) == 12]"
   ]
  },
  {
   "cell_type": "code",
   "execution_count": null,
   "metadata": {
    "collapsed": false
   },
   "outputs": [],
   "source": [
    "NFL_scores_hmm = []\n",
    "for sent in NFL_hmm:\n",
    "    #print(sent)\n",
    "    sc = perplexity(sent, fivegram_prob)\n",
    "    #print(sc)\n",
    "    NFL_scores_hmm.append(sc)\n",
    "    \n",
    "np.mean(NFL_scores_hmm)"
   ]
  },
  {
   "cell_type": "code",
   "execution_count": null,
   "metadata": {
    "collapsed": true
   },
   "outputs": [],
   "source": []
  },
  {
   "cell_type": "code",
   "execution_count": null,
   "metadata": {
    "collapsed": true
   },
   "outputs": [],
   "source": []
  },
  {
   "cell_type": "code",
   "execution_count": null,
   "metadata": {
    "collapsed": true
   },
   "outputs": [],
   "source": []
  },
  {
   "cell_type": "code",
   "execution_count": null,
   "metadata": {
    "collapsed": true
   },
   "outputs": [],
   "source": []
  },
  {
   "cell_type": "code",
   "execution_count": null,
   "metadata": {
    "collapsed": true
   },
   "outputs": [],
   "source": [
    "AR_toeval = []\n",
    "while(len(AR_toeval) < 2000):\n",
    "    sent = generate(N, filtered, 12)\n",
    "    if perplexity(sent, fivegram_prob) < 999999:\n",
    "        AR_toeval.append(sent)\n",
    "    else:\n",
    "        print ('aa')"
   ]
  },
  {
   "cell_type": "code",
   "execution_count": null,
   "metadata": {
    "collapsed": false
   },
   "outputs": [],
   "source": [
    "AR_scores_ng = []\n",
    "for sent in AR_toeval:\n",
    "    #print(sent)\n",
    "    sc = perplexity(sent, fivegram_prob)\n",
    "    #print(sc)\n",
    "    AR_scores_ng.append(sc)\n",
    "    \n",
    "np.mean(AR_scores_ng)"
   ]
  },
  {
   "cell_type": "code",
   "execution_count": null,
   "metadata": {
    "collapsed": false
   },
   "outputs": [],
   "source": [
    "AR_hmm = []\n",
    "with open('hmm/AskRedditResults.txt', 'r') as f:\n",
    "    \n",
    "    #for line in f:\n",
    "    text = f.read()\n",
    "        #print (unicode(line, errors='ignore'))\n",
    "    AR_hmm = text.split('\\n')\n",
    "    \n",
    "AR_hmm = [ sent for sent in AR_hmm if len(sent.split()) == 12]"
   ]
  },
  {
   "cell_type": "code",
   "execution_count": null,
   "metadata": {
    "collapsed": false
   },
   "outputs": [],
   "source": [
    "AR_scores_hmm = []\n",
    "for sent in AR_hmm:\n",
    "    #print(sent)\n",
    "    sc = perplexity(sent, fivegram_prob)\n",
    "    #print(sc)\n",
    "    AR_scores_hmm.append(sc)\n",
    "    \n",
    "np.mean(AR_scores_hmm)"
   ]
  },
  {
   "cell_type": "code",
   "execution_count": null,
   "metadata": {
    "collapsed": true
   },
   "outputs": [],
   "source": []
  },
  {
   "cell_type": "code",
   "execution_count": null,
   "metadata": {
    "collapsed": true
   },
   "outputs": [],
   "source": []
  },
  {
   "cell_type": "code",
   "execution_count": null,
   "metadata": {
    "collapsed": true
   },
   "outputs": [],
   "source": []
  }
 ],
 "metadata": {
  "kernelspec": {
   "display_name": "Python 3",
   "language": "python",
   "name": "python3"
  },
  "language_info": {
   "codemirror_mode": {
    "name": "ipython",
    "version": 3
   },
   "file_extension": ".py",
   "mimetype": "text/x-python",
   "name": "python",
   "nbconvert_exporter": "python",
   "pygments_lexer": "ipython3",
   "version": "3.5.2"
  }
 },
 "nbformat": 4,
 "nbformat_minor": 2
}
